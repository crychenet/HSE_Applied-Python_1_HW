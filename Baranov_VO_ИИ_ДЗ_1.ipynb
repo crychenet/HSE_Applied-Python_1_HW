{
 "nbformat": 4,
 "nbformat_minor": 0,
 "metadata": {
  "colab": {
   "provenance": []
  },
  "kernelspec": {
   "name": "python3",
   "language": "python",
   "display_name": "Python 3 (ipykernel)"
  },
  "language_info": {
   "name": "python"
  }
 },
 "cells": [
  {
   "cell_type": "markdown",
   "source": [
    "## ДЗ 1 (ОБЯЗАТЕЛЬНОЕ): Анализ температурных данных и мониторинг текущей температуры через OpenWeatherMap API\n",
    "\n",
    "**Описание задания:**  \n",
    "Вы аналитик в компании, занимающейся изучением климатических изменений и мониторингом температур в разных городах. Вам нужно провести анализ исторических данных о температуре для выявления сезонных закономерностей и аномалий. Также необходимо подключить API OpenWeatherMap для получения текущей температуры в выбранных городах и сравнить её с историческими данными.\n",
    "\n",
    "\n",
    "### Цели задания:\n",
    "1. Провести **анализ временных рядов**, включая:\n",
    "   - Вычисление скользящего среднего и стандартного отклонения для сглаживания температурных колебаний.\n",
    "   - Определение аномалий на основе отклонений температуры от $ \\text{скользящее среднее} \\pm 2\\sigma $.\n",
    "   - Построение долгосрочных трендов изменения температуры.\n",
    "   - Любые дополнительные исследования будут вам в плюс.\n",
    "\n",
    "2. Осуществить **мониторинг текущей температуры**:\n",
    "   - Получить текущую температуру через OpenWeatherMap API.\n",
    "   - Сравнить её с историческим нормальным диапазоном для текущего сезона.\n",
    "\n",
    "3. Разработать **интерактивное приложение**:\n",
    "   - Дать пользователю возможность выбрать город.\n",
    "   - Отобразить результаты анализа температур, включая временные ряды, сезонные профили и аномалии.\n",
    "   - Провести анализ текущей температуры в контексте исторических данных.\n",
    "\n",
    "\n",
    "### Описание данных\n",
    "Исторические данные о температуре содержатся в файле `temperature_data.csv`, включают:\n",
    "  - `city`: Название города.\n",
    "  - `timestamp`: Дата (с шагом в 1 день).\n",
    "  - `temperature`: Среднесуточная температура (в °C).\n",
    "  - `season`: Сезон года (зима, весна, лето, осень).\n",
    "\n",
    "Код для генерации файла вы найдете ниже.\n",
    "\n",
    "### Этапы выполнения\n",
    "\n",
    "1. **Анализ исторических данных**:\n",
    "   - Вычислить **скользящее среднее** температуры с окном в 30 дней для сглаживания краткосрочных колебаний.\n",
    "   - Рассчитать среднюю температуру и стандартное отклонение для каждого сезона в каждом городе.\n",
    "   - Выявить аномалии, где температура выходит за пределы $ \\text{среднее} \\pm 2\\sigma $.\n",
    "   - Попробуйте распараллелить проведение этого анализа. Сравните скорость выполнения анализа с распараллеливанием и без него.\n",
    "\n",
    "2. **Мониторинг текущей температуры**:\n",
    "   - Подключить OpenWeatherMap API для получения текущей температуры города. Для получения API Key (бесплатно) надо зарегистрироваться на сайте. Обратите внимание, что API Key может активироваться только через 2-3 часа, это нормально. Посему получите ключ заранее.\n",
    "   - Получить текущую температуру для выбранного города через OpenWeatherMap API.\n",
    "   - Определить, является ли текущая температура нормальной, исходя из исторических данных для текущего сезона.\n",
    "   - Данные на самом деле не совсем реальные (сюрпрайз). Поэтому на момент эксперимента погода в Берлине, Каире и Дубае была в рамках нормы, а в Пекине и Москве аномальная. Протестируйте свое решение для разных городов.\n",
    "   - Попробуйте для получения текущей температуры использовать синхронные и асинхронные методы. Что здесь лучше использовать?\n",
    "\n",
    "3. **Создание приложения на Streamlit**:\n",
    "   - Добавить интерфейс для загрузки файла с историческими данными.\n",
    "   - Добавить интерфейс для выбора города (из выпадающего списка).\n",
    "   - Добавить форму для ввода API-ключа OpenWeatherMap. Когда он не введен, данные для текущей погоды не показываются. Если ключ некорректный, выведите на экран ошибку (должно приходить `{\"cod\":401, \"message\": \"Invalid API key. Please see https://openweathermap.org/faq#error401 for more info.\"}`).\n",
    "   - Отобразить:\n",
    "     - Описательную статистику по историческим данным для города, можно добавить визуализации.\n",
    "     - Временной ряд температур с выделением аномалий (например, точками другого цвета).\n",
    "     - Сезонные профили с указанием среднего и стандартного отклонения.\n",
    "   - Вывести текущую температуру через API и указать, нормальна ли она для сезона.\n",
    "\n",
    "### Критерии оценивания\n",
    "\n",
    "- Корректное проведение анализа данных – 1 балл.\n",
    "- Исследование распараллеливания анализа – 1 балл.\n",
    "- Корректный поиск аномалий – 1 балл.\n",
    "- Подключение к API и корректность выполнения запроса – 1 балл.\n",
    "- Проведение эксперимента с синхронным и асинхронным способом запроса к API – 1 балл.\n",
    "- Создание интерфейса приложения streamlit в соответствии с описанием – 3 балла.\n",
    "- Корректное отображение графиков и статистик, а также сезонных профилей – 1 балл.\n",
    "- Корректный вывод текущей температуры в выбранном городе и проведение проверки на ее аномальность – 1 балл.\n",
    "- Любая дополнительная функциональность приветствуется и оценивается бонусными баллами (не более 2 в сумме) на усмотрение проверяющего.\n",
    "\n",
    "### Формат сдачи домашнего задания\n",
    "\n",
    "Решение нужно развернуть в Streamlit Cloud (бесплатно)\n",
    "\n",
    "*   Создаем новый репозиторий на GitHub.  \n",
    "*   Загружаем проект.\n",
    "*   Создаем аккаунт в [Streamlit Cloud](https://streamlit.io/cloud).\n",
    "*   Авторизуемся в Streamlit Cloud.\n",
    "*   Создаем новое приложение в Streamlit Cloud и подключаем GitHub-репозиторий.\n",
    "*   Deploy!\n",
    "\n",
    "Сдать в форму необходимо:\n",
    "1. Ссылку на развернутое в Streamlit Cloud приложение.\n",
    "2. Ссылку на код. Все выводы про, например, использование параллельности/асинхронности опишите в комментариях.\n",
    "\n",
    "Не забудьте удалить ключ API и иную чувствительную информацию.\n",
    "\n",
    "### Полезные ссылки\n",
    "*   [Оформление задачи Титаник на Streamlit](https://github.com/evgpat/streamlit_demo)\n",
    "*   [Документация Streamlit](https://docs.streamlit.io/)\n",
    "*   [Блог о Streamlit](https://blog.streamlit.io/)"
   ],
   "metadata": {
    "id": "bVbHQbDDjw9i"
   }
  },
  {
   "cell_type": "code",
   "execution_count": 1,
   "outputs": [],
   "source": [
    "import pandas as pd\n",
    "import polars as pl\n",
    "import numpy as np\n",
    "import time\n",
    "import requests\n",
    "import streamlit\n",
    "import time\n",
    "import asyncio\n",
    "import aiohttp\n",
    "from concurrent.futures import ThreadPoolExecutor\n",
    "from multiprocessing import Process, Pool, Queue, Manager"
   ],
   "metadata": {
    "collapsed": false,
    "ExecuteTime": {
     "end_time": "2024-12-23T18:22:58.972228900Z",
     "start_time": "2024-12-23T18:22:53.286661200Z"
    }
   }
  },
  {
   "cell_type": "code",
   "execution_count": 3,
   "outputs": [],
   "source": [
    "# Реальные средние температуры (примерные данные) для городов по сезонам\n",
    "seasonal_temperatures = {\n",
    "    \"New York\": {\"winter\": 0, \"spring\": 10, \"summer\": 25, \"autumn\": 15},\n",
    "    \"London\": {\"winter\": 5, \"spring\": 11, \"summer\": 18, \"autumn\": 12},\n",
    "    \"Paris\": {\"winter\": 4, \"spring\": 12, \"summer\": 20, \"autumn\": 13},\n",
    "    \"Tokyo\": {\"winter\": 6, \"spring\": 15, \"summer\": 27, \"autumn\": 18},\n",
    "    \"Moscow\": {\"winter\": -10, \"spring\": 5, \"summer\": 18, \"autumn\": 8},\n",
    "    \"Sydney\": {\"winter\": 12, \"spring\": 18, \"summer\": 25, \"autumn\": 20},\n",
    "    \"Berlin\": {\"winter\": 0, \"spring\": 10, \"summer\": 20, \"autumn\": 11},\n",
    "    \"Beijing\": {\"winter\": -2, \"spring\": 13, \"summer\": 27, \"autumn\": 16},\n",
    "    \"Rio de Janeiro\": {\"winter\": 20, \"spring\": 25, \"summer\": 30, \"autumn\": 25},\n",
    "    \"Dubai\": {\"winter\": 20, \"spring\": 30, \"summer\": 40, \"autumn\": 30},\n",
    "    \"Los Angeles\": {\"winter\": 15, \"spring\": 18, \"summer\": 25, \"autumn\": 20},\n",
    "    \"Singapore\": {\"winter\": 27, \"spring\": 28, \"summer\": 28, \"autumn\": 27},\n",
    "    \"Mumbai\": {\"winter\": 25, \"spring\": 30, \"summer\": 35, \"autumn\": 30},\n",
    "    \"Cairo\": {\"winter\": 15, \"spring\": 25, \"summer\": 35, \"autumn\": 25},\n",
    "    \"Mexico City\": {\"winter\": 12, \"spring\": 18, \"summer\": 20, \"autumn\": 15},\n",
    "}\n",
    "\n",
    "# Сопоставление месяцев с сезонами\n",
    "month_to_season = {12: \"winter\", 1: \"winter\", 2: \"winter\",\n",
    "                   3: \"spring\", 4: \"spring\", 5: \"spring\",\n",
    "                   6: \"summer\", 7: \"summer\", 8: \"summer\",\n",
    "                   9: \"autumn\", 10: \"autumn\", 11: \"autumn\"}\n",
    "\n",
    "# Генерация данных о температуре\n",
    "def generate_realistic_temperature_data(cities, num_years=10):\n",
    "    dates = pd.date_range(start=\"2010-01-01\", periods=365 * num_years, freq=\"D\")\n",
    "    data = []\n",
    "\n",
    "    for city in cities:\n",
    "        for date in dates:\n",
    "            season = month_to_season[date.month]\n",
    "            mean_temp = seasonal_temperatures[city][season]\n",
    "            # Добавляем случайное отклонение\n",
    "            temperature = np.random.normal(loc=mean_temp, scale=5)\n",
    "            data.append({\"city\": city, \"timestamp\": date, \"temperature\": temperature})\n",
    "\n",
    "    df = pd.DataFrame(data)\n",
    "    df['season'] = df['timestamp'].dt.month.map(lambda x: month_to_season[x])\n",
    "    return df\n",
    "\n",
    "# Генерация данных\n",
    "data = generate_realistic_temperature_data(list(seasonal_temperatures.keys()))\n",
    "data.to_csv('temperature_data.csv', index=False)\n"
   ],
   "metadata": {
    "collapsed": false,
    "ExecuteTime": {
     "end_time": "2024-12-20T11:06:18.328928400Z",
     "start_time": "2024-12-20T11:06:16.032912200Z"
    }
   }
  },
  {
   "cell_type": "code",
   "execution_count": 2,
   "outputs": [],
   "source": [
    "df = pd.read_csv(r\"C:\\Users\\vyacheslav\\PycharmProjects\\HSE_python\\temperature_data.csv\")"
   ],
   "metadata": {
    "collapsed": false,
    "ExecuteTime": {
     "end_time": "2024-12-23T18:22:59.082657600Z",
     "start_time": "2024-12-23T18:22:58.954226100Z"
    }
   }
  },
  {
   "cell_type": "code",
   "execution_count": 3,
   "outputs": [],
   "source": [
    "df['скользящее среднее'] = df[df['city'] == 'New York']['temperature'].rolling(window=30).mean()"
   ],
   "metadata": {
    "collapsed": false,
    "ExecuteTime": {
     "end_time": "2024-12-23T18:23:01.464392100Z",
     "start_time": "2024-12-23T18:23:01.382901100Z"
    }
   }
  },
  {
   "cell_type": "code",
   "execution_count": 19,
   "outputs": [
    {
     "name": "stdout",
     "output_type": "stream",
     "text": [
      "CPU times: total: 0 ns\n",
      "Wall time: 58.3 ms\n"
     ]
    },
    {
     "data": {
      "text/plain": "              city   timestamp  temperature  season       mean       std  \\\n0         New York  2010-01-01     2.195210  winter   0.033516  5.033830   \n1         New York  2010-01-02    -4.495230  winter   0.033516  5.033830   \n2         New York  2010-01-03    -5.070020  winter   0.033516  5.033830   \n3         New York  2010-01-04     5.032125  winter   0.033516  5.033830   \n4         New York  2010-01-05    -4.260883  winter   0.033516  5.033830   \n...            ...         ...          ...     ...        ...       ...   \n54745  Mexico City  2019-12-25     4.571449  winter  11.684650  5.042241   \n54746  Mexico City  2019-12-26    11.534023  winter  11.684650  5.042241   \n54747  Mexico City  2019-12-27    12.525010  winter  11.684650  5.042241   \n54748  Mexico City  2019-12-28     8.521927  winter  11.684650  5.042241   \n54749  Mexico City  2019-12-29    12.772342  winter  11.684650  5.042241   \n\n       аномальные данные  \n0                  False  \n1                  False  \n2                  False  \n3                  False  \n4                  False  \n...                  ...  \n54745              False  \n54746              False  \n54747              False  \n54748              False  \n54749              False  \n\n[54750 rows x 7 columns]",
      "text/html": "<div>\n<style scoped>\n    .dataframe tbody tr th:only-of-type {\n        vertical-align: middle;\n    }\n\n    .dataframe tbody tr th {\n        vertical-align: top;\n    }\n\n    .dataframe thead th {\n        text-align: right;\n    }\n</style>\n<table border=\"1\" class=\"dataframe\">\n  <thead>\n    <tr style=\"text-align: right;\">\n      <th></th>\n      <th>city</th>\n      <th>timestamp</th>\n      <th>temperature</th>\n      <th>season</th>\n      <th>mean</th>\n      <th>std</th>\n      <th>аномальные данные</th>\n    </tr>\n  </thead>\n  <tbody>\n    <tr>\n      <th>0</th>\n      <td>New York</td>\n      <td>2010-01-01</td>\n      <td>2.195210</td>\n      <td>winter</td>\n      <td>0.033516</td>\n      <td>5.033830</td>\n      <td>False</td>\n    </tr>\n    <tr>\n      <th>1</th>\n      <td>New York</td>\n      <td>2010-01-02</td>\n      <td>-4.495230</td>\n      <td>winter</td>\n      <td>0.033516</td>\n      <td>5.033830</td>\n      <td>False</td>\n    </tr>\n    <tr>\n      <th>2</th>\n      <td>New York</td>\n      <td>2010-01-03</td>\n      <td>-5.070020</td>\n      <td>winter</td>\n      <td>0.033516</td>\n      <td>5.033830</td>\n      <td>False</td>\n    </tr>\n    <tr>\n      <th>3</th>\n      <td>New York</td>\n      <td>2010-01-04</td>\n      <td>5.032125</td>\n      <td>winter</td>\n      <td>0.033516</td>\n      <td>5.033830</td>\n      <td>False</td>\n    </tr>\n    <tr>\n      <th>4</th>\n      <td>New York</td>\n      <td>2010-01-05</td>\n      <td>-4.260883</td>\n      <td>winter</td>\n      <td>0.033516</td>\n      <td>5.033830</td>\n      <td>False</td>\n    </tr>\n    <tr>\n      <th>...</th>\n      <td>...</td>\n      <td>...</td>\n      <td>...</td>\n      <td>...</td>\n      <td>...</td>\n      <td>...</td>\n      <td>...</td>\n    </tr>\n    <tr>\n      <th>54745</th>\n      <td>Mexico City</td>\n      <td>2019-12-25</td>\n      <td>4.571449</td>\n      <td>winter</td>\n      <td>11.684650</td>\n      <td>5.042241</td>\n      <td>False</td>\n    </tr>\n    <tr>\n      <th>54746</th>\n      <td>Mexico City</td>\n      <td>2019-12-26</td>\n      <td>11.534023</td>\n      <td>winter</td>\n      <td>11.684650</td>\n      <td>5.042241</td>\n      <td>False</td>\n    </tr>\n    <tr>\n      <th>54747</th>\n      <td>Mexico City</td>\n      <td>2019-12-27</td>\n      <td>12.525010</td>\n      <td>winter</td>\n      <td>11.684650</td>\n      <td>5.042241</td>\n      <td>False</td>\n    </tr>\n    <tr>\n      <th>54748</th>\n      <td>Mexico City</td>\n      <td>2019-12-28</td>\n      <td>8.521927</td>\n      <td>winter</td>\n      <td>11.684650</td>\n      <td>5.042241</td>\n      <td>False</td>\n    </tr>\n    <tr>\n      <th>54749</th>\n      <td>Mexico City</td>\n      <td>2019-12-29</td>\n      <td>12.772342</td>\n      <td>winter</td>\n      <td>11.684650</td>\n      <td>5.042241</td>\n      <td>False</td>\n    </tr>\n  </tbody>\n</table>\n<p>54750 rows × 7 columns</p>\n</div>"
     },
     "execution_count": 19,
     "metadata": {},
     "output_type": "execute_result"
    }
   ],
   "source": [
    "%%time\n",
    "\n",
    "def use_pandas(frame):\n",
    "    frame['mean'] = frame.groupby(['season', 'city'])['temperature'].transform('mean')\n",
    "    frame['std'] = frame.groupby(['season', 'city'])['temperature'].transform('std')\n",
    "    \n",
    "    frame['аномальные данные'] = np.where(\n",
    "        ((frame['mean'] + frame['std'] * 2) < frame['temperature']) | ((frame['mean'] - frame['std'] * 2) > frame['temperature']),\n",
    "        True,\n",
    "        False\n",
    "    )\n",
    "    return frame\n",
    "\n",
    "\n",
    "use_pandas(df.copy())"
   ],
   "metadata": {
    "collapsed": false,
    "ExecuteTime": {
     "end_time": "2024-12-22T21:00:18.421395400Z",
     "start_time": "2024-12-22T21:00:18.281915100Z"
    }
   }
  },
  {
   "cell_type": "code",
   "execution_count": 25,
   "outputs": [
    {
     "data": {
      "text/plain": "Index(['city', 'timestamp', 'temperature', 'season', 'mean', 'std',\n       'аномальные данные'],\n      dtype='object')"
     },
     "execution_count": 25,
     "metadata": {},
     "output_type": "execute_result"
    }
   ],
   "source": [
    "use_pandas(df.copy()).columns"
   ],
   "metadata": {
    "collapsed": false,
    "ExecuteTime": {
     "end_time": "2024-12-22T21:27:48.223065400Z",
     "start_time": "2024-12-22T21:27:48.012638300Z"
    }
   }
  },
  {
   "cell_type": "code",
   "execution_count": null,
   "outputs": [],
   "source": [
    "# use_multiprocessing.py\n",
    "\"\"\"import pandas as pd\n",
    "import numpy as np\n",
    "import time\n",
    "from multiprocessing import Process, Pool, Queue, Manager\n",
    "\n",
    "\n",
    "def count_with_multiprocessing(chunk, sharder_list):\n",
    "    chunk['median'] = chunk.groupby(['season', 'city'])['temperature'].transform('median')\n",
    "    chunk['std'] = chunk.groupby(['season', 'city'])['temperature'].transform('std')\n",
    "    chunk['аномальные данные'] = np.where(\n",
    "        ((chunk['median'] + chunk['std'] * 2) < chunk['temperature']) | (\n",
    "                    (chunk['median'] - chunk['std'] * 2) > chunk['temperature']),\n",
    "        True,\n",
    "        False\n",
    "    )\n",
    "    sharder_list.append(chunk)\n",
    "\n",
    "\n",
    "def run_process(frame, num_process):\n",
    "    cities = frame['city'].unique()\n",
    "    cities_split = np.array_split(cities, num_process)\n",
    "    chunks = [frame[frame['city'].isin(chunk)].copy() for chunk in cities_split]\n",
    "    with Manager() as manager:\n",
    "        sharder_list = manager.list()\n",
    "        processes = [Process(target=count_with_multiprocessing, args=(chunk, sharder_list)) for chunk in chunks]\n",
    "        for process in processes:\n",
    "            process.start()\n",
    "        for process in processes:\n",
    "            process.join()\n",
    "        new_frame = pd.concat(list(sharder_list))\n",
    "    return new_frame\n",
    "\n",
    "\n",
    "if __name__ == '__main__':\n",
    "    df = pd.read_csv(r'C:\\Users\\vyacheslav\\PycharmProjects\\HSE_python\\temperature_data.csv')\n",
    "    result = run_process(df.copy(), 3)\n",
    "    print(result)\"\"\""
   ],
   "metadata": {
    "collapsed": false,
    "ExecuteTime": {
     "start_time": "2024-12-20T14:30:49.301872300Z"
    }
   }
  },
  {
   "cell_type": "code",
   "execution_count": 3,
   "outputs": [
    {
     "name": "stdout",
     "output_type": "stream",
     "text": [
      "              city   timestamp  temperature  season     median       std  \\\n",
      "0         New York  2010-01-01     2.195210  winter   0.048565  5.033830   \n",
      "1         New York  2010-01-02    -4.495230  winter   0.048565  5.033830   \n",
      "2         New York  2010-01-03    -5.070020  winter   0.048565  5.033830   \n",
      "3         New York  2010-01-04     5.032125  winter   0.048565  5.033830   \n",
      "4         New York  2010-01-05    -4.260883  winter   0.048565  5.033830   \n",
      "...            ...         ...          ...     ...        ...       ...   \n",
      "54745  Mexico City  2019-12-25     4.571449  winter  11.911135  5.042241   \n",
      "54746  Mexico City  2019-12-26    11.534023  winter  11.911135  5.042241   \n",
      "54747  Mexico City  2019-12-27    12.525010  winter  11.911135  5.042241   \n",
      "54748  Mexico City  2019-12-28     8.521927  winter  11.911135  5.042241   \n",
      "54749  Mexico City  2019-12-29    12.772342  winter  11.911135  5.042241   \n",
      "\n",
      "       аномальные данные  \n",
      "0                  False  \n",
      "1                  False  \n",
      "2                  False  \n",
      "3                  False  \n",
      "4                  False  \n",
      "...                  ...  \n",
      "54745              False  \n",
      "54746              False  \n",
      "54747              False  \n",
      "54748              False  \n",
      "54749              False  \n",
      "\n",
      "[54750 rows x 7 columns]\n",
      "CPU times: total: 125 ms\n",
      "Wall time: 9.31 s\n"
     ]
    }
   ],
   "source": [
    "%%time\n",
    "\n",
    "%run -i use_multiprocessing.py"
   ],
   "metadata": {
    "collapsed": false,
    "ExecuteTime": {
     "end_time": "2024-12-20T14:37:52.529293100Z",
     "start_time": "2024-12-20T14:37:43.198949300Z"
    }
   }
  },
  {
   "cell_type": "code",
   "execution_count": 4,
   "outputs": [
    {
     "name": "stdout",
     "output_type": "stream",
     "text": [
      "shape: (54_750, 8)\n",
      "┌─────────────┬────────────┬─────────────┬────────┬────────────┬───────────┬──────────┬────────────┐\n",
      "│ city        ┆ timestamp  ┆ temperature ┆ season ┆ скользящее ┆ mean      ┆ std      ┆ аномальные │\n",
      "│ ---         ┆ ---        ┆ ---         ┆ ---    ┆ среднее    ┆ ---       ┆ ---      ┆ данные     │\n",
      "│ str         ┆ str        ┆ f64         ┆ str    ┆ ---        ┆ f64       ┆ f64      ┆ ---        │\n",
      "│             ┆            ┆             ┆        ┆ f64        ┆           ┆          ┆ bool       │\n",
      "╞═════════════╪════════════╪═════════════╪════════╪════════════╪═══════════╪══════════╪════════════╡\n",
      "│ New York    ┆ 2010-01-01 ┆ 2.19521     ┆ winter ┆ null       ┆ 0.048565  ┆ 5.03383  ┆ false      │\n",
      "│ New York    ┆ 2010-01-02 ┆ -4.49523    ┆ winter ┆ null       ┆ 0.048565  ┆ 5.03383  ┆ false      │\n",
      "│ New York    ┆ 2010-01-03 ┆ -5.07002    ┆ winter ┆ null       ┆ 0.048565  ┆ 5.03383  ┆ false      │\n",
      "│ New York    ┆ 2010-01-04 ┆ 5.032125    ┆ winter ┆ null       ┆ 0.048565  ┆ 5.03383  ┆ false      │\n",
      "│ New York    ┆ 2010-01-05 ┆ -4.260883   ┆ winter ┆ null       ┆ 0.048565  ┆ 5.03383  ┆ false      │\n",
      "│ …           ┆ …          ┆ …           ┆ …      ┆ …          ┆ …         ┆ …        ┆ …          │\n",
      "│ Mexico City ┆ 2019-12-25 ┆ 4.571449    ┆ winter ┆ null       ┆ 11.911135 ┆ 5.042241 ┆ false      │\n",
      "│ Mexico City ┆ 2019-12-26 ┆ 11.534023   ┆ winter ┆ null       ┆ 11.911135 ┆ 5.042241 ┆ false      │\n",
      "│ Mexico City ┆ 2019-12-27 ┆ 12.52501    ┆ winter ┆ null       ┆ 11.911135 ┆ 5.042241 ┆ false      │\n",
      "│ Mexico City ┆ 2019-12-28 ┆ 8.521927    ┆ winter ┆ null       ┆ 11.911135 ┆ 5.042241 ┆ false      │\n",
      "│ Mexico City ┆ 2019-12-29 ┆ 12.772342   ┆ winter ┆ null       ┆ 11.911135 ┆ 5.042241 ┆ false      │\n",
      "└─────────────┴────────────┴─────────────┴────────┴────────────┴───────────┴──────────┴────────────┘\n",
      "CPU times: total: 31.2 ms\n",
      "Wall time: 211 ms\n"
     ]
    }
   ],
   "source": [
    "%%time\n",
    "\n",
    "def use_polars(frame):\n",
    "    frame = pl.from_pandas(frame)\n",
    "    grouped = frame.group_by([\"season\", \"city\"]).agg([\n",
    "        pl.col(\"temperature\").median().alias(\"mean\"),\n",
    "        pl.col(\"temperature\").std().alias(\"std\"),\n",
    "    ])\n",
    "\n",
    "    frame = frame.join(grouped, on=[\"season\", \"city\"])\n",
    "\n",
    "    frame = frame.with_columns(\n",
    "        (\n",
    "            ((frame[\"temperature\"] > frame[\"mean\"] + 2 * frame[\"std\"]) |\n",
    "             (frame[\"temperature\"] < frame[\"mean\"] - 2 * frame[\"std\"]))\n",
    "        ).alias(\"аномальные данные\")\n",
    "    )\n",
    "    return frame\n",
    "\n",
    "result = use_polars(df.copy())\n",
    "print(result)"
   ],
   "metadata": {
    "collapsed": false,
    "ExecuteTime": {
     "end_time": "2024-12-23T18:23:15.971592Z",
     "start_time": "2024-12-23T18:23:15.735607900Z"
    }
   }
  },
  {
   "cell_type": "markdown",
   "source": [
    "Быстрее получилось использую стандартные библиотеки numpy и pandas"
   ],
   "metadata": {
    "collapsed": false
   }
  },
  {
   "cell_type": "code",
   "execution_count": 7,
   "outputs": [],
   "source": [
    "def get_latitude_and_longitude(city_name, api_key):\n",
    "    url = r'http://api.openweathermap.org/geo/1.0/direct'\n",
    "    params = {\n",
    "        'q': city_name,\n",
    "        'appid': api_key\n",
    "    }\n",
    "    resp = requests.get(url=url, params=params)\n",
    "    json_resp = resp.json()\n",
    "    geographic_coordinates = {'lat': json_resp[0]['lat'], 'lon': json_resp[0]['lon']}\n",
    "    return geographic_coordinates\n",
    "\n",
    "\n",
    "def get_weather_data(geographic_coordinates, api_key):\n",
    "    url = r'https://api.openweathermap.org/data/2.5/weather'\n",
    "    params = {\n",
    "        'lat': geographic_coordinates['lat'],\n",
    "        'lon': geographic_coordinates['lon'],\n",
    "        'appid': api_key,\n",
    "        'lang': 'ru',\n",
    "        'units': 'metric'\n",
    "    }\n",
    "    resp = requests.get(url=url, params=params)\n",
    "    json_resp = resp.json()\n",
    "    return json_resp['main']['temp']\n",
    "\n",
    "\n",
    "def process_task(city, api_key):\n",
    "    geographic_coordinates = get_latitude_and_longitude(city, api_key)\n",
    "    weather_data = get_weather_data(geographic_coordinates, api_key)\n",
    "    result = {city: weather_data}\n",
    "    return result"
   ],
   "metadata": {
    "collapsed": false,
    "ExecuteTime": {
     "end_time": "2024-12-23T18:24:29.469366900Z",
     "start_time": "2024-12-23T18:24:29.441779700Z"
    }
   }
  },
  {
   "cell_type": "code",
   "execution_count": 8,
   "outputs": [
    {
     "name": "stdout",
     "output_type": "stream",
     "text": [
      "[{'New York': -4.07}, {'London': 6.28}, {'Paris': 6.66}, {'Tokyo': 4.39}, {'Moscow': -0.71}, {'Sydney': 14.52}, {'Berlin': 5.03}, {'Beijing': -7.06}, {'Rio de Janeiro': 23.23}, {'Dubai': 22.02}, {'Los Angeles': 15.9}, {'Singapore': 24.6}, {'Mumbai': 24.03}, {'Cairo': 17.33}, {'Mexico City': 16.54}]\n",
      "CPU times: total: 8.09 s\n",
      "Wall time: 26.1 s\n"
     ]
    }
   ],
   "source": [
    "%%time\n",
    "\n",
    "weather_data_in_cities = []\n",
    "for city in df.city.unique():\n",
    "    weather = process_task(city, API_KEY)\n",
    "    weather_data_in_cities.append(weather)\n",
    "print(weather_data_in_cities)"
   ],
   "metadata": {
    "collapsed": false,
    "ExecuteTime": {
     "end_time": "2024-12-23T18:25:01.963976600Z",
     "start_time": "2024-12-23T18:24:35.859736200Z"
    }
   }
  },
  {
   "cell_type": "code",
   "execution_count": 9,
   "outputs": [
    {
     "name": "stdout",
     "output_type": "stream",
     "text": [
      "[{'New York': -4.07}, {'London': 6.28}, {'Paris': 6.66}, {'Tokyo': 4.39}, {'Moscow': -0.71}, {'Sydney': 14.52}, {'Berlin': 5.03}, {'Beijing': -7.06}, {'Rio de Janeiro': 23.23}, {'Dubai': 22.02}, {'Los Angeles': 15.9}, {'Singapore': 24.6}, {'Mumbai': 24.03}, {'Cairo': 17.33}, {'Mexico City': 16.54}]\n",
      "CPU times: total: 12.2 s\n",
      "Wall time: 8.31 s\n"
     ]
    }
   ],
   "source": [
    "%%time\n",
    "\n",
    "def get_weather_data_using_threads(max_workers, api_key):\n",
    "    with ThreadPoolExecutor(max_workers=max_workers) as executor:\n",
    "        futures = [\n",
    "            executor.submit(process_task, city, api_key)\n",
    "            for city in df.city.unique()\n",
    "        ]\n",
    "        results = [future.result() for future in futures]\n",
    "    return results\n",
    "\n",
    "print(get_weather_data_using_threads(3, API_KEY))"
   ],
   "metadata": {
    "collapsed": false,
    "ExecuteTime": {
     "end_time": "2024-12-23T18:26:05.452471500Z",
     "start_time": "2024-12-23T18:25:57.115734700Z"
    }
   }
  },
  {
   "cell_type": "code",
   "execution_count": 20,
   "outputs": [
    {
     "name": "stdout",
     "output_type": "stream",
     "text": [
      "CPU times: total: 0 ns\n",
      "Wall time: 6.6 ms\n"
     ]
    }
   ],
   "source": [
    "%%time\n",
    "\n",
    "async def get_latitude_and_longitude(city_name, api_key):\n",
    "    async with aiohttp.ClientSession() as session:\n",
    "        async with session.get(f'http://api.openweathermap.org/geo/1.0/direct?q={city_name}&appid={api_key}') as response:\n",
    "            json_resp = await response.json()\n",
    "            geographic_coordinates = {'lat': json_resp[0]['lat'], 'lon': json_resp[0]['lon']}\n",
    "    return geographic_coordinates\n",
    "\n",
    "\n",
    "async def get_weather_data(geographic_coordinates, api_key):\n",
    "    async with aiohttp.ClientSession() as session:\n",
    "        async with session.get(f'https://api.openweathermap.org/data/2.5/weather?lat={geographic_coordinates[\"lat\"]}&lon={geographic_coordinates[\"lon\"]}&appid={api_key}&lang=ru&units=metric') as response:\n",
    "            json_resp = await response.json()\n",
    "    return json_resp['main']['temp']\n",
    "\n",
    "\n",
    "async def process_task(city, api_key):\n",
    "    geographic_coordinates = await get_latitude_and_longitude(city, api_key)\n",
    "    weather_data = await get_weather_data(geographic_coordinates, api_key)\n",
    "    result = {city: weather_data}\n",
    "    return result\n",
    "\n",
    "\n",
    "result = asyncio.gather(*[process_task(city, API_KEY) for city in df.city.unique()])"
   ],
   "metadata": {
    "collapsed": false,
    "ExecuteTime": {
     "end_time": "2024-12-23T18:28:41.001201900Z",
     "start_time": "2024-12-23T18:28:40.946350400Z"
    }
   }
  },
  {
   "cell_type": "code",
   "execution_count": 21,
   "outputs": [
    {
     "name": "stdout",
     "output_type": "stream",
     "text": [
      "[{'New York': -4.07}, {'London': 6.28}, {'Paris': 6.66}, {'Tokyo': 4.39}, {'Moscow': 1.29}, {'Sydney': 14.52}, {'Berlin': 5.03}, {'Beijing': -7.06}, {'Rio de Janeiro': 23.23}, {'Dubai': 22.02}, {'Los Angeles': 16.03}, {'Singapore': 24.6}, {'Mumbai': 24.03}, {'Cairo': 17.33}, {'Mexico City': 16.54}]\n"
     ]
    }
   ],
   "source": [
    "print(result.result())"
   ],
   "metadata": {
    "collapsed": false,
    "ExecuteTime": {
     "end_time": "2024-12-23T18:28:42.555078100Z",
     "start_time": "2024-12-23T18:28:42.485783300Z"
    }
   }
  },
  {
   "cell_type": "code",
   "execution_count": 27,
   "outputs": [],
   "source": [
    "df_for_today = pd.DataFrame(data=[data.values() for data in result.result()], index=[list(data.keys())[0] for data in result.result()], columns=['22.12.2024'])\n",
    "\n",
    "df['timestamp'] = pd.to_datetime(df['timestamp'])\n",
    "\n",
    "df_for_today = pd.merge(\n",
    "    df_for_today,\n",
    "    df[df['season'] == 'winter'].groupby('city')['temperature'].agg(['mean', 'std']),\n",
    "    left_index=True, right_index=True, how='outer'\n",
    ")"
   ],
   "metadata": {
    "collapsed": false,
    "ExecuteTime": {
     "end_time": "2024-12-23T18:32:26.565898900Z",
     "start_time": "2024-12-23T18:32:26.493734500Z"
    }
   }
  },
  {
   "cell_type": "code",
   "execution_count": 30,
   "outputs": [],
   "source": [
    "df_for_today['аномальные данные'] = np.where(\n",
    "    ((df_for_today['mean'] + df_for_today['std'] * 2) < df_for_today['22.12.2024']) | ((df_for_today['mean'] - df_for_today['std'] * 2) > df_for_today['22.12.2024']),\n",
    "    True,\n",
    "    False\n",
    ")"
   ],
   "metadata": {
    "collapsed": false,
    "ExecuteTime": {
     "end_time": "2024-12-23T18:35:19.706676100Z",
     "start_time": "2024-12-23T18:35:19.582341300Z"
    }
   }
  },
  {
   "cell_type": "code",
   "execution_count": 31,
   "outputs": [
    {
     "data": {
      "text/plain": "                22.12.2024       mean       std  аномальные данные\nBeijing              -7.06  -1.906691  4.855098              False\nBerlin                5.03  -0.137676  4.965170              False\nCairo                17.33  14.939975  4.959913              False\nDubai                22.02  19.930105  5.005282              False\nLondon                6.28   4.903050  5.131355              False\nLos Angeles          16.03  14.863209  5.078312              False\nMexico City          16.54  11.684650  5.042241              False\nMoscow                1.29 -10.126967  4.993482               True\nMumbai               24.03  25.107651  5.081237              False\nNew York             -4.07   0.033516  5.033830              False\nParis                 6.66   3.970820  4.811062              False\nRio de Janeiro       23.23  19.966663  4.997631              False\nSingapore            24.60  27.015637  4.869994              False\nSydney               14.52  11.989453  4.840959              False\nTokyo                 4.39   6.003490  5.202520              False",
      "text/html": "<div>\n<style scoped>\n    .dataframe tbody tr th:only-of-type {\n        vertical-align: middle;\n    }\n\n    .dataframe tbody tr th {\n        vertical-align: top;\n    }\n\n    .dataframe thead th {\n        text-align: right;\n    }\n</style>\n<table border=\"1\" class=\"dataframe\">\n  <thead>\n    <tr style=\"text-align: right;\">\n      <th></th>\n      <th>22.12.2024</th>\n      <th>mean</th>\n      <th>std</th>\n      <th>аномальные данные</th>\n    </tr>\n  </thead>\n  <tbody>\n    <tr>\n      <th>Beijing</th>\n      <td>-7.06</td>\n      <td>-1.906691</td>\n      <td>4.855098</td>\n      <td>False</td>\n    </tr>\n    <tr>\n      <th>Berlin</th>\n      <td>5.03</td>\n      <td>-0.137676</td>\n      <td>4.965170</td>\n      <td>False</td>\n    </tr>\n    <tr>\n      <th>Cairo</th>\n      <td>17.33</td>\n      <td>14.939975</td>\n      <td>4.959913</td>\n      <td>False</td>\n    </tr>\n    <tr>\n      <th>Dubai</th>\n      <td>22.02</td>\n      <td>19.930105</td>\n      <td>5.005282</td>\n      <td>False</td>\n    </tr>\n    <tr>\n      <th>London</th>\n      <td>6.28</td>\n      <td>4.903050</td>\n      <td>5.131355</td>\n      <td>False</td>\n    </tr>\n    <tr>\n      <th>Los Angeles</th>\n      <td>16.03</td>\n      <td>14.863209</td>\n      <td>5.078312</td>\n      <td>False</td>\n    </tr>\n    <tr>\n      <th>Mexico City</th>\n      <td>16.54</td>\n      <td>11.684650</td>\n      <td>5.042241</td>\n      <td>False</td>\n    </tr>\n    <tr>\n      <th>Moscow</th>\n      <td>1.29</td>\n      <td>-10.126967</td>\n      <td>4.993482</td>\n      <td>True</td>\n    </tr>\n    <tr>\n      <th>Mumbai</th>\n      <td>24.03</td>\n      <td>25.107651</td>\n      <td>5.081237</td>\n      <td>False</td>\n    </tr>\n    <tr>\n      <th>New York</th>\n      <td>-4.07</td>\n      <td>0.033516</td>\n      <td>5.033830</td>\n      <td>False</td>\n    </tr>\n    <tr>\n      <th>Paris</th>\n      <td>6.66</td>\n      <td>3.970820</td>\n      <td>4.811062</td>\n      <td>False</td>\n    </tr>\n    <tr>\n      <th>Rio de Janeiro</th>\n      <td>23.23</td>\n      <td>19.966663</td>\n      <td>4.997631</td>\n      <td>False</td>\n    </tr>\n    <tr>\n      <th>Singapore</th>\n      <td>24.60</td>\n      <td>27.015637</td>\n      <td>4.869994</td>\n      <td>False</td>\n    </tr>\n    <tr>\n      <th>Sydney</th>\n      <td>14.52</td>\n      <td>11.989453</td>\n      <td>4.840959</td>\n      <td>False</td>\n    </tr>\n    <tr>\n      <th>Tokyo</th>\n      <td>4.39</td>\n      <td>6.003490</td>\n      <td>5.202520</td>\n      <td>False</td>\n    </tr>\n  </tbody>\n</table>\n</div>"
     },
     "execution_count": 31,
     "metadata": {},
     "output_type": "execute_result"
    }
   ],
   "source": [
    "df_for_today"
   ],
   "metadata": {
    "collapsed": false,
    "ExecuteTime": {
     "end_time": "2024-12-23T18:35:25.771160800Z",
     "start_time": "2024-12-23T18:35:25.686774100Z"
    }
   }
  },
  {
   "cell_type": "markdown",
   "source": [
    "Как мы видим, температура является нормальной в Mumbai, Los Angeles, Singapore, Paris, London, Dubai, Tokyo...\n",
    "В Moscow температура отличается от нормальных по сезону\n",
    "\n",
    "Быстрее всего с получением информации по api, справился асинхронный подход. Подход с созданием потоков параллельного выполнения также справился значительно лучше обычного последовательного подхода."
   ],
   "metadata": {
    "collapsed": false
   }
  },
  {
   "cell_type": "code",
   "execution_count": null,
   "outputs": [],
   "source": [],
   "metadata": {
    "collapsed": false
   }
  }
 ]
}
